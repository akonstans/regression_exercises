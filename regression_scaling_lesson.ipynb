{
 "cells": [
  {
   "cell_type": "code",
   "execution_count": 10,
   "id": "459aa5c0",
   "metadata": {},
   "outputs": [],
   "source": [
    "import matplotlib.pyplot as plt\n",
    "import numpy as np\n",
    "from scipy import stats\n",
    "import sklearn.preprocessing\n",
    "from sklearn.model_selection import train_test_split\n",
    "import pandas as pd\n",
    "import new_lib as nl\n",
    "import seaborn as sns\n",
    "import matplotlib.pyplot as plt"
   ]
  },
  {
   "cell_type": "code",
   "execution_count": 7,
   "id": "096f4967",
   "metadata": {},
   "outputs": [
    {
     "data": {
      "text/html": [
       "<div>\n",
       "<style scoped>\n",
       "    .dataframe tbody tr th:only-of-type {\n",
       "        vertical-align: middle;\n",
       "    }\n",
       "\n",
       "    .dataframe tbody tr th {\n",
       "        vertical-align: top;\n",
       "    }\n",
       "\n",
       "    .dataframe thead th {\n",
       "        text-align: right;\n",
       "    }\n",
       "</style>\n",
       "<table border=\"1\" class=\"dataframe\">\n",
       "  <thead>\n",
       "    <tr style=\"text-align: right;\">\n",
       "      <th></th>\n",
       "      <th>0</th>\n",
       "      <th>1</th>\n",
       "      <th>2</th>\n",
       "      <th>3</th>\n",
       "      <th>4</th>\n",
       "      <th>5</th>\n",
       "      <th>6</th>\n",
       "      <th>7</th>\n",
       "      <th>8</th>\n",
       "    </tr>\n",
       "  </thead>\n",
       "  <tbody>\n",
       "    <tr>\n",
       "      <th>0</th>\n",
       "      <td>18.0</td>\n",
       "      <td>8</td>\n",
       "      <td>307.0</td>\n",
       "      <td>130.0</td>\n",
       "      <td>3504.0</td>\n",
       "      <td>12.0</td>\n",
       "      <td>70</td>\n",
       "      <td>1</td>\n",
       "      <td>\"chevrolet chevelle malibu\"</td>\n",
       "    </tr>\n",
       "    <tr>\n",
       "      <th>1</th>\n",
       "      <td>15.0</td>\n",
       "      <td>8</td>\n",
       "      <td>350.0</td>\n",
       "      <td>165.0</td>\n",
       "      <td>3693.0</td>\n",
       "      <td>11.5</td>\n",
       "      <td>70</td>\n",
       "      <td>1</td>\n",
       "      <td>\"buick skylark 320\"</td>\n",
       "    </tr>\n",
       "    <tr>\n",
       "      <th>2</th>\n",
       "      <td>18.0</td>\n",
       "      <td>8</td>\n",
       "      <td>318.0</td>\n",
       "      <td>150.0</td>\n",
       "      <td>3436.0</td>\n",
       "      <td>11.0</td>\n",
       "      <td>70</td>\n",
       "      <td>1</td>\n",
       "      <td>\"plymouth satellite\"</td>\n",
       "    </tr>\n",
       "    <tr>\n",
       "      <th>3</th>\n",
       "      <td>16.0</td>\n",
       "      <td>8</td>\n",
       "      <td>304.0</td>\n",
       "      <td>150.0</td>\n",
       "      <td>3433.0</td>\n",
       "      <td>12.0</td>\n",
       "      <td>70</td>\n",
       "      <td>1</td>\n",
       "      <td>\"amc rebel sst\"</td>\n",
       "    </tr>\n",
       "    <tr>\n",
       "      <th>4</th>\n",
       "      <td>17.0</td>\n",
       "      <td>8</td>\n",
       "      <td>302.0</td>\n",
       "      <td>140.0</td>\n",
       "      <td>3449.0</td>\n",
       "      <td>10.5</td>\n",
       "      <td>70</td>\n",
       "      <td>1</td>\n",
       "      <td>\"ford torino\"</td>\n",
       "    </tr>\n",
       "  </tbody>\n",
       "</table>\n",
       "</div>"
      ],
      "text/plain": [
       "      0  1      2      3       4     5   6  7                            8\n",
       "0  18.0  8  307.0  130.0  3504.0  12.0  70  1  \"chevrolet chevelle malibu\"\n",
       "1  15.0  8  350.0  165.0  3693.0  11.5  70  1          \"buick skylark 320\"\n",
       "2  18.0  8  318.0  150.0  3436.0  11.0  70  1         \"plymouth satellite\"\n",
       "3  16.0  8  304.0  150.0  3433.0  12.0  70  1              \"amc rebel sst\"\n",
       "4  17.0  8  302.0  140.0  3449.0  10.5  70  1                \"ford torino\""
      ]
     },
     "execution_count": 7,
     "metadata": {},
     "output_type": "execute_result"
    }
   ],
   "source": [
    "df = pd.read_fwf('auto-mpg.data', header = None)\n",
    "df.head()"
   ]
  },
  {
   "cell_type": "markdown",
   "id": "994df2a6",
   "metadata": {},
   "source": [
    "1. mpg: continuous\n",
    "2. cylinders: multi-valued discrete\n",
    "3. displacement: continuous\n",
    "4. horsepower: continuous\n",
    "5. weight: continuous\n",
    "6. acceleration: continuous\n",
    "7. model year: multi-valued discrete\n",
    "8. origin: multi-valued discrete\n",
    "9. car name: string (unique for each instance)"
   ]
  },
  {
   "cell_type": "code",
   "execution_count": 8,
   "id": "87afeb23",
   "metadata": {},
   "outputs": [
    {
     "data": {
      "text/html": [
       "<div>\n",
       "<style scoped>\n",
       "    .dataframe tbody tr th:only-of-type {\n",
       "        vertical-align: middle;\n",
       "    }\n",
       "\n",
       "    .dataframe tbody tr th {\n",
       "        vertical-align: top;\n",
       "    }\n",
       "\n",
       "    .dataframe thead th {\n",
       "        text-align: right;\n",
       "    }\n",
       "</style>\n",
       "<table border=\"1\" class=\"dataframe\">\n",
       "  <thead>\n",
       "    <tr style=\"text-align: right;\">\n",
       "      <th></th>\n",
       "      <th>mpg</th>\n",
       "      <th>cylinders</th>\n",
       "      <th>displace</th>\n",
       "      <th>horsepower</th>\n",
       "      <th>weight</th>\n",
       "      <th>acceleration</th>\n",
       "      <th>model_year</th>\n",
       "      <th>origin</th>\n",
       "      <th>name</th>\n",
       "    </tr>\n",
       "  </thead>\n",
       "  <tbody>\n",
       "    <tr>\n",
       "      <th>0</th>\n",
       "      <td>18.0</td>\n",
       "      <td>8</td>\n",
       "      <td>307.0</td>\n",
       "      <td>130.0</td>\n",
       "      <td>3504.0</td>\n",
       "      <td>12.0</td>\n",
       "      <td>70</td>\n",
       "      <td>1</td>\n",
       "      <td>\"chevrolet chevelle malibu\"</td>\n",
       "    </tr>\n",
       "    <tr>\n",
       "      <th>1</th>\n",
       "      <td>15.0</td>\n",
       "      <td>8</td>\n",
       "      <td>350.0</td>\n",
       "      <td>165.0</td>\n",
       "      <td>3693.0</td>\n",
       "      <td>11.5</td>\n",
       "      <td>70</td>\n",
       "      <td>1</td>\n",
       "      <td>\"buick skylark 320\"</td>\n",
       "    </tr>\n",
       "    <tr>\n",
       "      <th>2</th>\n",
       "      <td>18.0</td>\n",
       "      <td>8</td>\n",
       "      <td>318.0</td>\n",
       "      <td>150.0</td>\n",
       "      <td>3436.0</td>\n",
       "      <td>11.0</td>\n",
       "      <td>70</td>\n",
       "      <td>1</td>\n",
       "      <td>\"plymouth satellite\"</td>\n",
       "    </tr>\n",
       "    <tr>\n",
       "      <th>3</th>\n",
       "      <td>16.0</td>\n",
       "      <td>8</td>\n",
       "      <td>304.0</td>\n",
       "      <td>150.0</td>\n",
       "      <td>3433.0</td>\n",
       "      <td>12.0</td>\n",
       "      <td>70</td>\n",
       "      <td>1</td>\n",
       "      <td>\"amc rebel sst\"</td>\n",
       "    </tr>\n",
       "    <tr>\n",
       "      <th>4</th>\n",
       "      <td>17.0</td>\n",
       "      <td>8</td>\n",
       "      <td>302.0</td>\n",
       "      <td>140.0</td>\n",
       "      <td>3449.0</td>\n",
       "      <td>10.5</td>\n",
       "      <td>70</td>\n",
       "      <td>1</td>\n",
       "      <td>\"ford torino\"</td>\n",
       "    </tr>\n",
       "  </tbody>\n",
       "</table>\n",
       "</div>"
      ],
      "text/plain": [
       "    mpg  cylinders  displace horsepower  weight  acceleration  model_year  \\\n",
       "0  18.0          8     307.0      130.0  3504.0          12.0          70   \n",
       "1  15.0          8     350.0      165.0  3693.0          11.5          70   \n",
       "2  18.0          8     318.0      150.0  3436.0          11.0          70   \n",
       "3  16.0          8     304.0      150.0  3433.0          12.0          70   \n",
       "4  17.0          8     302.0      140.0  3449.0          10.5          70   \n",
       "\n",
       "   origin                         name  \n",
       "0       1  \"chevrolet chevelle malibu\"  \n",
       "1       1          \"buick skylark 320\"  \n",
       "2       1         \"plymouth satellite\"  \n",
       "3       1              \"amc rebel sst\"  \n",
       "4       1                \"ford torino\"  "
      ]
     },
     "execution_count": 8,
     "metadata": {},
     "output_type": "execute_result"
    }
   ],
   "source": [
    "df.columns = ['mpg', 'cylinders', 'displace', 'horsepower', 'weight', 'acceleration', 'model_year', 'origin', 'name']\n",
    "df.head()"
   ]
  },
  {
   "cell_type": "code",
   "execution_count": 9,
   "id": "ef2ddc97",
   "metadata": {},
   "outputs": [
    {
     "data": {
      "text/plain": [
       "(398, 9)"
      ]
     },
     "execution_count": 9,
     "metadata": {},
     "output_type": "execute_result"
    }
   ],
   "source": [
    "df.shape"
   ]
  },
  {
   "cell_type": "code",
   "execution_count": 17,
   "id": "cc87e4cd",
   "metadata": {},
   "outputs": [
    {
     "data": {
      "text/html": [
       "<div>\n",
       "<style scoped>\n",
       "    .dataframe tbody tr th:only-of-type {\n",
       "        vertical-align: middle;\n",
       "    }\n",
       "\n",
       "    .dataframe tbody tr th {\n",
       "        vertical-align: top;\n",
       "    }\n",
       "\n",
       "    .dataframe thead th {\n",
       "        text-align: right;\n",
       "    }\n",
       "</style>\n",
       "<table border=\"1\" class=\"dataframe\">\n",
       "  <thead>\n",
       "    <tr style=\"text-align: right;\">\n",
       "      <th></th>\n",
       "      <th>mpg</th>\n",
       "      <th>cylinders</th>\n",
       "      <th>displace</th>\n",
       "      <th>horsepower</th>\n",
       "      <th>weight</th>\n",
       "      <th>acceleration</th>\n",
       "      <th>model_year</th>\n",
       "      <th>origin</th>\n",
       "      <th>name</th>\n",
       "    </tr>\n",
       "  </thead>\n",
       "  <tbody>\n",
       "    <tr>\n",
       "      <th>32</th>\n",
       "      <td>25.0</td>\n",
       "      <td>4</td>\n",
       "      <td>98.0</td>\n",
       "      <td>?</td>\n",
       "      <td>2046.0</td>\n",
       "      <td>19.0</td>\n",
       "      <td>71</td>\n",
       "      <td>1</td>\n",
       "      <td>\"ford pinto\"</td>\n",
       "    </tr>\n",
       "    <tr>\n",
       "      <th>126</th>\n",
       "      <td>21.0</td>\n",
       "      <td>6</td>\n",
       "      <td>200.0</td>\n",
       "      <td>?</td>\n",
       "      <td>2875.0</td>\n",
       "      <td>17.0</td>\n",
       "      <td>74</td>\n",
       "      <td>1</td>\n",
       "      <td>\"ford maverick\"</td>\n",
       "    </tr>\n",
       "    <tr>\n",
       "      <th>330</th>\n",
       "      <td>40.9</td>\n",
       "      <td>4</td>\n",
       "      <td>85.0</td>\n",
       "      <td>?</td>\n",
       "      <td>1835.0</td>\n",
       "      <td>17.3</td>\n",
       "      <td>80</td>\n",
       "      <td>2</td>\n",
       "      <td>\"renault lecar deluxe\"</td>\n",
       "    </tr>\n",
       "    <tr>\n",
       "      <th>336</th>\n",
       "      <td>23.6</td>\n",
       "      <td>4</td>\n",
       "      <td>140.0</td>\n",
       "      <td>?</td>\n",
       "      <td>2905.0</td>\n",
       "      <td>14.3</td>\n",
       "      <td>80</td>\n",
       "      <td>1</td>\n",
       "      <td>\"ford mustang cobra\"</td>\n",
       "    </tr>\n",
       "    <tr>\n",
       "      <th>354</th>\n",
       "      <td>34.5</td>\n",
       "      <td>4</td>\n",
       "      <td>100.0</td>\n",
       "      <td>?</td>\n",
       "      <td>2320.0</td>\n",
       "      <td>15.8</td>\n",
       "      <td>81</td>\n",
       "      <td>2</td>\n",
       "      <td>\"renault 18i\"</td>\n",
       "    </tr>\n",
       "    <tr>\n",
       "      <th>374</th>\n",
       "      <td>23.0</td>\n",
       "      <td>4</td>\n",
       "      <td>151.0</td>\n",
       "      <td>?</td>\n",
       "      <td>3035.0</td>\n",
       "      <td>20.5</td>\n",
       "      <td>82</td>\n",
       "      <td>1</td>\n",
       "      <td>\"amc concord dl\"</td>\n",
       "    </tr>\n",
       "  </tbody>\n",
       "</table>\n",
       "</div>"
      ],
      "text/plain": [
       "      mpg  cylinders  displace horsepower  weight  acceleration  model_year  \\\n",
       "32   25.0          4      98.0          ?  2046.0          19.0          71   \n",
       "126  21.0          6     200.0          ?  2875.0          17.0          74   \n",
       "330  40.9          4      85.0          ?  1835.0          17.3          80   \n",
       "336  23.6          4     140.0          ?  2905.0          14.3          80   \n",
       "354  34.5          4     100.0          ?  2320.0          15.8          81   \n",
       "374  23.0          4     151.0          ?  3035.0          20.5          82   \n",
       "\n",
       "     origin                    name  \n",
       "32        1            \"ford pinto\"  \n",
       "126       1         \"ford maverick\"  \n",
       "330       2  \"renault lecar deluxe\"  \n",
       "336       1    \"ford mustang cobra\"  \n",
       "354       2           \"renault 18i\"  \n",
       "374       1        \"amc concord dl\"  "
      ]
     },
     "execution_count": 17,
     "metadata": {},
     "output_type": "execute_result"
    }
   ],
   "source": [
    "df[df['horsepower'] == '?']"
   ]
  },
  {
   "cell_type": "code",
   "execution_count": 31,
   "id": "eafb09bc",
   "metadata": {},
   "outputs": [],
   "source": [
    "df.horsepower = df.horsepower[df.horsepower != '?']"
   ]
  },
  {
   "cell_type": "code",
   "execution_count": 32,
   "id": "c07b4e9b",
   "metadata": {},
   "outputs": [],
   "source": [
    "df.horsepower = df.horsepower.astype(float)"
   ]
  },
  {
   "cell_type": "code",
   "execution_count": 33,
   "id": "22ae30b0",
   "metadata": {
    "scrolled": true
   },
   "outputs": [
    {
     "data": {
      "text/plain": [
       "<AxesSubplot:xlabel='horsepower', ylabel='Count'>"
      ]
     },
     "execution_count": 33,
     "metadata": {},
     "output_type": "execute_result"
    },
    {
     "data": {
      "image/png": "[encoded data removed]",
      "text/plain": [
       "<Figure size 640x480 with 1 Axes>"
      ]
     },
     "metadata": {},
     "output_type": "display_data"
    }
   ],
   "source": [
    "sns.histplot(df.horsepower)"
   ]
  },
  {
   "cell_type": "markdown",
   "id": "bdbf6afb",
   "metadata": {},
   "source": [
    "# Min-max scaling"
   ]
  },
  {
   "cell_type": "code",
   "execution_count": 45,
   "id": "3f1565b9",
   "metadata": {},
   "outputs": [],
   "source": [
    "from sklearn.preprocessing import MinMaxScaler"
   ]
  },
  {
   "cell_type": "code",
   "execution_count": 46,
   "id": "1dba66d0",
   "metadata": {},
   "outputs": [],
   "source": [
    "mmscaler = MinMaxScaler()"
   ]
  },
  {
   "cell_type": "code",
   "execution_count": 50,
   "id": "a01b4279",
   "metadata": {},
   "outputs": [],
   "source": [
    "train, test = train_test_split(df, train_size = .7, random_state = 77)"
   ]
  },
  {
   "cell_type": "code",
   "execution_count": 51,
   "id": "65df2a4c",
   "metadata": {},
   "outputs": [
    {
     "data": {
      "text/html": [
       "<style>#sk-container-id-1 {color: black;background-color: white;}#sk-container-id-1 pre{padding: 0;}#sk-container-id-1 div.sk-toggleable {background-color: white;}#sk-container-id-1 label.sk-toggleable__label {cursor: pointer;display: block;width: 100%;margin-bottom: 0;padding: 0.3em;box-sizing: border-box;text-align: center;}#sk-container-id-1 label.sk-toggleable__label-arrow:before {content: \"▸\";float: left;margin-right: 0.25em;color: #696969;}#sk-container-id-1 label.sk-toggleable__label-arrow:hover:before {color: black;}#sk-container-id-1 div.sk-estimator:hover label.sk-toggleable__label-arrow:before {color: black;}#sk-container-id-1 div.sk-toggleable__content {max-height: 0;max-width: 0;overflow: hidden;text-align: left;background-color: #f0f8ff;}#sk-container-id-1 div.sk-toggleable__content pre {margin: 0.2em;color: black;border-radius: 0.25em;background-color: #f0f8ff;}#sk-container-id-1 input.sk-toggleable__control:checked~div.sk-toggleable__content {max-height: 200px;max-width: 100%;overflow: auto;}#sk-container-id-1 input.sk-toggleable__control:checked~label.sk-toggleable__label-arrow:before {content: \"▾\";}#sk-container-id-1 div.sk-estimator input.sk-toggleable__control:checked~label.sk-toggleable__label {background-color: #d4ebff;}#sk-container-id-1 div.sk-label input.sk-toggleable__control:checked~label.sk-toggleable__label {background-color: #d4ebff;}#sk-container-id-1 input.sk-hidden--visually {border: 0;clip: rect(1px 1px 1px 1px);clip: rect(1px, 1px, 1px, 1px);height: 1px;margin: -1px;overflow: hidden;padding: 0;position: absolute;width: 1px;}#sk-container-id-1 div.sk-estimator {font-family: monospace;background-color: #f0f8ff;border: 1px dotted black;border-radius: 0.25em;box-sizing: border-box;margin-bottom: 0.5em;}#sk-container-id-1 div.sk-estimator:hover {background-color: #d4ebff;}#sk-container-id-1 div.sk-parallel-item::after {content: \"\";width: 100%;border-bottom: 1px solid gray;flex-grow: 1;}#sk-container-id-1 div.sk-label:hover label.sk-toggleable__label {background-color: #d4ebff;}#sk-container-id-1 div.sk-serial::before {content: \"\";position: absolute;border-left: 1px solid gray;box-sizing: border-box;top: 0;bottom: 0;left: 50%;z-index: 0;}#sk-container-id-1 div.sk-serial {display: flex;flex-direction: column;align-items: center;background-color: white;padding-right: 0.2em;padding-left: 0.2em;position: relative;}#sk-container-id-1 div.sk-item {position: relative;z-index: 1;}#sk-container-id-1 div.sk-parallel {display: flex;align-items: stretch;justify-content: center;background-color: white;position: relative;}#sk-container-id-1 div.sk-item::before, #sk-container-id-1 div.sk-parallel-item::before {content: \"\";position: absolute;border-left: 1px solid gray;box-sizing: border-box;top: 0;bottom: 0;left: 50%;z-index: -1;}#sk-container-id-1 div.sk-parallel-item {display: flex;flex-direction: column;z-index: 1;position: relative;background-color: white;}#sk-container-id-1 div.sk-parallel-item:first-child::after {align-self: flex-end;width: 50%;}#sk-container-id-1 div.sk-parallel-item:last-child::after {align-self: flex-start;width: 50%;}#sk-container-id-1 div.sk-parallel-item:only-child::after {width: 0;}#sk-container-id-1 div.sk-dashed-wrapped {border: 1px dashed gray;margin: 0 0.4em 0.5em 0.4em;box-sizing: border-box;padding-bottom: 0.4em;background-color: white;}#sk-container-id-1 div.sk-label label {font-family: monospace;font-weight: bold;display: inline-block;line-height: 1.2em;}#sk-container-id-1 div.sk-label-container {text-align: center;}#sk-container-id-1 div.sk-container {/* jupyter's `normalize.less` sets `[hidden] { display: none; }` but bootstrap.min.css set `[hidden] { display: none !important; }` so we also need the `!important` here to be able to override the default hidden behavior on the sphinx rendered scikit-learn.org. See: https://github.com/scikit-learn/scikit-learn/issues/21755 */display: inline-block !important;position: relative;}#sk-container-id-1 div.sk-text-repr-fallback {display: none;}</style><div id=\"sk-container-id-1\" class=\"sk-top-container\"><div class=\"sk-text-repr-fallback\"><pre>MinMaxScaler()</pre><b>In a Jupyter environment, please rerun this cell to show the HTML representation or trust the notebook. <br />On GitHub, the HTML representation is unable to render, please try loading this page with nbviewer.org.</b></div><div class=\"sk-container\" hidden><div class=\"sk-item\"><div class=\"sk-estimator sk-toggleable\"><input class=\"sk-toggleable__control sk-hidden--visually\" id=\"sk-estimator-id-1\" type=\"checkbox\" checked><label for=\"sk-estimator-id-1\" class=\"sk-toggleable__label sk-toggleable__label-arrow\">MinMaxScaler</label><div class=\"sk-toggleable__content\"><pre>MinMaxScaler()</pre></div></div></div></div></div>"
      ],
      "text/plain": [
       "MinMaxScaler()"
      ]
     },
     "execution_count": 51,
     "metadata": {},
     "output_type": "execute_result"
    }
   ],
   "source": [
    "mmscaler.fit(train[['horsepower']])"
   ]
  },
  {
   "cell_type": "code",
   "execution_count": 53,
   "id": "e1f4d614",
   "metadata": {},
   "outputs": [],
   "source": [
    "mmhorsepower = mmscaler.transform(train[['horsepower']])"
   ]
  },
  {
   "cell_type": "code",
   "execution_count": 54,
   "id": "ee26c4b3",
   "metadata": {},
   "outputs": [
    {
     "data": {
      "text/plain": [
       "83      80.0\n",
       "365     88.0\n",
       "326     48.0\n",
       "378     63.0\n",
       "310     60.0\n",
       "       ...  \n",
       "293     71.0\n",
       "235     75.0\n",
       "84      88.0\n",
       "95     225.0\n",
       "215    150.0\n",
       "Name: horsepower, Length: 278, dtype: float64"
      ]
     },
     "execution_count": 54,
     "metadata": {},
     "output_type": "execute_result"
    }
   ],
   "source": [
    "train['horsepower']"
   ]
  },
  {
   "cell_type": "code",
   "execution_count": 56,
   "id": "ec433e9e",
   "metadata": {},
   "outputs": [
    {
     "data": {
      "text/plain": [
       "<seaborn.axisgrid.FacetGrid at 0x1777be9d0>"
      ]
     },
     "execution_count": 56,
     "metadata": {},
     "output_type": "execute_result"
    },
    {
     "data": {
      "image/png": "[encoded data removed]",
      "text/plain": [
       "<Figure size 500x500 with 1 Axes>"
      ]
     },
     "metadata": {},
     "output_type": "display_data"
    }
   ],
   "source": [
    "sns.displot(train.horsepower)"
   ]
  },
  {
   "cell_type": "code",
   "execution_count": 57,
   "id": "0a3ff791",
   "metadata": {},
   "outputs": [
    {
     "data": {
      "text/plain": [
       "<seaborn.axisgrid.FacetGrid at 0x14fa22f10>"
      ]
     },
     "execution_count": 57,
     "metadata": {},
     "output_type": "execute_result"
    },
    {
     "data": {
      "image/png": "[encoded data removed]",
      "text/plain": [
       "<Figure size 558.875x500 with 1 Axes>"
      ]
     },
     "metadata": {},
     "output_type": "display_data"
    }
   ],
   "source": [
    "sns.displot(mmhorsepower)"
   ]
  },
  {
   "cell_type": "code",
   "execution_count": 58,
   "id": "fe8c3939",
   "metadata": {},
   "outputs": [],
   "source": [
    "from sklearn.preprocessing import StandardScaler"
   ]
  },
  {
   "cell_type": "code",
   "execution_count": 59,
   "id": "003a673c",
   "metadata": {},
   "outputs": [],
   "source": [
    "ss_scaler = StandardScaler()"
   ]
  },
  {
   "cell_type": "code",
   "execution_count": 60,
   "id": "0cb3b8bb",
   "metadata": {},
   "outputs": [
    {
     "data": {
      "text/html": [
       "<style>#sk-container-id-2 {color: black;background-color: white;}#sk-container-id-2 pre{padding: 0;}#sk-container-id-2 div.sk-toggleable {background-color: white;}#sk-container-id-2 label.sk-toggleable__label {cursor: pointer;display: block;width: 100%;margin-bottom: 0;padding: 0.3em;box-sizing: border-box;text-align: center;}#sk-container-id-2 label.sk-toggleable__label-arrow:before {content: \"▸\";float: left;margin-right: 0.25em;color: #696969;}#sk-container-id-2 label.sk-toggleable__label-arrow:hover:before {color: black;}#sk-container-id-2 div.sk-estimator:hover label.sk-toggleable__label-arrow:before {color: black;}#sk-container-id-2 div.sk-toggleable__content {max-height: 0;max-width: 0;overflow: hidden;text-align: left;background-color: #f0f8ff;}#sk-container-id-2 div.sk-toggleable__content pre {margin: 0.2em;color: black;border-radius: 0.25em;background-color: #f0f8ff;}#sk-container-id-2 input.sk-toggleable__control:checked~div.sk-toggleable__content {max-height: 200px;max-width: 100%;overflow: auto;}#sk-container-id-2 input.sk-toggleable__control:checked~label.sk-toggleable__label-arrow:before {content: \"▾\";}#sk-container-id-2 div.sk-estimator input.sk-toggleable__control:checked~label.sk-toggleable__label {background-color: #d4ebff;}#sk-container-id-2 div.sk-label input.sk-toggleable__control:checked~label.sk-toggleable__label {background-color: #d4ebff;}#sk-container-id-2 input.sk-hidden--visually {border: 0;clip: rect(1px 1px 1px 1px);clip: rect(1px, 1px, 1px, 1px);height: 1px;margin: -1px;overflow: hidden;padding: 0;position: absolute;width: 1px;}#sk-container-id-2 div.sk-estimator {font-family: monospace;background-color: #f0f8ff;border: 1px dotted black;border-radius: 0.25em;box-sizing: border-box;margin-bottom: 0.5em;}#sk-container-id-2 div.sk-estimator:hover {background-color: #d4ebff;}#sk-container-id-2 div.sk-parallel-item::after {content: \"\";width: 100%;border-bottom: 1px solid gray;flex-grow: 1;}#sk-container-id-2 div.sk-label:hover label.sk-toggleable__label {background-color: #d4ebff;}#sk-container-id-2 div.sk-serial::before {content: \"\";position: absolute;border-left: 1px solid gray;box-sizing: border-box;top: 0;bottom: 0;left: 50%;z-index: 0;}#sk-container-id-2 div.sk-serial {display: flex;flex-direction: column;align-items: center;background-color: white;padding-right: 0.2em;padding-left: 0.2em;position: relative;}#sk-container-id-2 div.sk-item {position: relative;z-index: 1;}#sk-container-id-2 div.sk-parallel {display: flex;align-items: stretch;justify-content: center;background-color: white;position: relative;}#sk-container-id-2 div.sk-item::before, #sk-container-id-2 div.sk-parallel-item::before {content: \"\";position: absolute;border-left: 1px solid gray;box-sizing: border-box;top: 0;bottom: 0;left: 50%;z-index: -1;}#sk-container-id-2 div.sk-parallel-item {display: flex;flex-direction: column;z-index: 1;position: relative;background-color: white;}#sk-container-id-2 div.sk-parallel-item:first-child::after {align-self: flex-end;width: 50%;}#sk-container-id-2 div.sk-parallel-item:last-child::after {align-self: flex-start;width: 50%;}#sk-container-id-2 div.sk-parallel-item:only-child::after {width: 0;}#sk-container-id-2 div.sk-dashed-wrapped {border: 1px dashed gray;margin: 0 0.4em 0.5em 0.4em;box-sizing: border-box;padding-bottom: 0.4em;background-color: white;}#sk-container-id-2 div.sk-label label {font-family: monospace;font-weight: bold;display: inline-block;line-height: 1.2em;}#sk-container-id-2 div.sk-label-container {text-align: center;}#sk-container-id-2 div.sk-container {/* jupyter's `normalize.less` sets `[hidden] { display: none; }` but bootstrap.min.css set `[hidden] { display: none !important; }` so we also need the `!important` here to be able to override the default hidden behavior on the sphinx rendered scikit-learn.org. See: https://github.com/scikit-learn/scikit-learn/issues/21755 */display: inline-block !important;position: relative;}#sk-container-id-2 div.sk-text-repr-fallback {display: none;}</style><div id=\"sk-container-id-2\" class=\"sk-top-container\"><div class=\"sk-text-repr-fallback\"><pre>StandardScaler()</pre><b>In a Jupyter environment, please rerun this cell to show the HTML representation or trust the notebook. <br />On GitHub, the HTML representation is unable to render, please try loading this page with nbviewer.org.</b></div><div class=\"sk-container\" hidden><div class=\"sk-item\"><div class=\"sk-estimator sk-toggleable\"><input class=\"sk-toggleable__control sk-hidden--visually\" id=\"sk-estimator-id-2\" type=\"checkbox\" checked><label for=\"sk-estimator-id-2\" class=\"sk-toggleable__label sk-toggleable__label-arrow\">StandardScaler</label><div class=\"sk-toggleable__content\"><pre>StandardScaler()</pre></div></div></div></div></div>"
      ],
      "text/plain": [
       "StandardScaler()"
      ]
     },
     "execution_count": 60,
     "metadata": {},
     "output_type": "execute_result"
    }
   ],
   "source": [
    "ss_scaler.fit(train[['horsepower']])"
   ]
  },
  {
   "cell_type": "code",
   "execution_count": 61,
   "id": "03ae6195",
   "metadata": {},
   "outputs": [
    {
     "data": {
      "text/plain": [
       "array([[-0.61840088],\n",
       "       [-0.411192  ],\n",
       "       [-1.44723644],\n",
       "       [-1.05871977],\n",
       "       [-1.1364231 ],\n",
       "       [ 1.19467688],\n",
       "       [-0.67020311],\n",
       "       [-0.411192  ],\n",
       "       [ 0.85796244],\n",
       "       [ 0.21043467],\n",
       "       [-1.49903866],\n",
       "       [-1.34363199],\n",
       "       [ 1.84220466],\n",
       "       [ 1.16877577],\n",
       "       [-0.51479644],\n",
       "       [ 1.97171021],\n",
       "       [-0.48889533],\n",
       "       [ 0.90976466],\n",
       "       [-0.411192  ],\n",
       "       [-0.411192  ],\n",
       "       [-0.411192  ],\n",
       "       [-0.15218089],\n",
       "       [-0.178082  ],\n",
       "       [-0.411192  ],\n",
       "       [-0.87741199],\n",
       "       [-0.87741199],\n",
       "       [-1.03281866],\n",
       "       [-0.56659866],\n",
       "       [ 0.02912689],\n",
       "       [-0.35938977],\n",
       "       [-0.77380755],\n",
       "       [-0.87741199],\n",
       "       [-0.82560977],\n",
       "       [ 2.43793021],\n",
       "       [-0.77380755],\n",
       "       [-0.67020311],\n",
       "       [-0.35938977],\n",
       "       [ 1.45368799],\n",
       "       [-1.00691755],\n",
       "       [ 3.00775465],\n",
       "       [        nan],\n",
       "       [-0.10037866],\n",
       "       [-0.87741199],\n",
       "       [-0.10037866],\n",
       "       [ 0.15863245],\n",
       "       [ 1.45368799],\n",
       "       [-0.22988422],\n",
       "       [-0.22988422],\n",
       "       [ 2.43793021],\n",
       "       [-1.08462088],\n",
       "       [ 0.80616022],\n",
       "       [-0.46299422],\n",
       "       [ 1.7126991 ],\n",
       "       [-1.34363199],\n",
       "       [ 0.02912689],\n",
       "       [ 1.06517133],\n",
       "       [-0.69610422],\n",
       "       [ 1.19467688],\n",
       "       [ 0.02912689],\n",
       "       [-0.74790644],\n",
       "       [ 1.19467688],\n",
       "       [-0.178082  ],\n",
       "       [-0.74790644],\n",
       "       [-0.95511533],\n",
       "       [-0.85151088],\n",
       "       [ 1.58319355],\n",
       "       [-0.30758755],\n",
       "       [ 1.40188577],\n",
       "       [ 0.10683022],\n",
       "       [-1.05871977],\n",
       "       [-0.51479644],\n",
       "       [-0.87741199],\n",
       "       [-0.74790644],\n",
       "       [-0.20398311],\n",
       "       [-0.46299422],\n",
       "       [-1.11052199],\n",
       "       [-1.44723644],\n",
       "       [ 0.93566577],\n",
       "       [ 1.19467688],\n",
       "       [-0.22988422],\n",
       "       [-1.05871977],\n",
       "       [-1.1364231 ],\n",
       "       [-0.87741199],\n",
       "       [-0.10037866],\n",
       "       [ 0.15863245],\n",
       "       [ 0.67665466],\n",
       "       [-0.35938977],\n",
       "       [ 1.63499577],\n",
       "       [-0.178082  ],\n",
       "       [ 1.27238022],\n",
       "       [ 0.65075355],\n",
       "       [-0.10037866],\n",
       "       [ 1.58319355],\n",
       "       [-0.644302  ],\n",
       "       [-0.59249977],\n",
       "       [-0.67020311],\n",
       "       [ 0.21043467],\n",
       "       [-0.10037866],\n",
       "       [ 0.15863245],\n",
       "       [-0.35938977],\n",
       "       [-0.9033131 ],\n",
       "       [-0.30758755],\n",
       "       [-0.10037866],\n",
       "       [ 0.15863245],\n",
       "       [        nan],\n",
       "       [ 1.19467688],\n",
       "       [ 2.23072132],\n",
       "       [        nan],\n",
       "       [-1.00691755],\n",
       "       [ 2.48973243],\n",
       "       [-0.22988422],\n",
       "       [-1.34363199],\n",
       "       [-0.22988422],\n",
       "       [-1.18822533],\n",
       "       [-0.74790644],\n",
       "       [-0.178082  ],\n",
       "       [-0.72200533],\n",
       "       [ 0.93566577],\n",
       "       [ 3.26676576],\n",
       "       [-0.85151088],\n",
       "       [-0.10037866],\n",
       "       [ 0.21043467],\n",
       "       [-0.411192  ],\n",
       "       [-0.61840088],\n",
       "       [ 1.7126991 ],\n",
       "       [-0.20398311],\n",
       "       [ 1.19467688],\n",
       "       [-0.51479644],\n",
       "       [-0.95511533],\n",
       "       [ 0.15863245],\n",
       "       [-0.411192  ],\n",
       "       [ 1.84220466],\n",
       "       [ 1.06517133],\n",
       "       [-0.46299422],\n",
       "       [-0.22988422],\n",
       "       [-0.20398311],\n",
       "       [-0.87741199],\n",
       "       [-0.411192  ],\n",
       "       [ 0.02912689],\n",
       "       [ 1.24647911],\n",
       "       [-0.35938977],\n",
       "       [-0.85151088],\n",
       "       [-0.61840088],\n",
       "       [-0.411192  ],\n",
       "       [ 0.02912689],\n",
       "       [-0.38529089],\n",
       "       [-0.35938977],\n",
       "       [-1.08462088],\n",
       "       [-1.00691755],\n",
       "       [-0.10037866],\n",
       "       [ 1.06517133],\n",
       "       [ 1.19467688],\n",
       "       [-0.74790644],\n",
       "       [-0.411192  ],\n",
       "       [ 0.15863245],\n",
       "       [ 1.19467688],\n",
       "       [-0.35938977],\n",
       "       [ 0.08092911],\n",
       "       [ 0.02912689],\n",
       "       [ 1.84220466],\n",
       "       [ 1.58319355],\n",
       "       [-0.411192  ],\n",
       "       [-0.67020311],\n",
       "       [ 1.84220466],\n",
       "       [-0.178082  ],\n",
       "       [-0.30758755],\n",
       "       [ 0.02912689],\n",
       "       [-0.644302  ],\n",
       "       [-0.178082  ],\n",
       "       [-0.95511533],\n",
       "       [ 0.41764356],\n",
       "       [-0.95511533],\n",
       "       [ 2.30842466],\n",
       "       [ 0.288138  ],\n",
       "       [ 1.19467688],\n",
       "       [ 1.58319355],\n",
       "       [ 1.97171021],\n",
       "       [ 1.84220466],\n",
       "       [ 1.19467688],\n",
       "       [-0.48889533],\n",
       "       [ 0.41764356],\n",
       "       [ 1.97171021],\n",
       "       [-0.10037866],\n",
       "       [-0.9033131 ],\n",
       "       [ 0.65075355],\n",
       "       [ 1.7126991 ],\n",
       "       [-0.04857644],\n",
       "       [ 1.32418244],\n",
       "       [-1.44723644],\n",
       "       [-0.74790644],\n",
       "       [-0.61840088],\n",
       "       [ 0.15863245],\n",
       "       [-1.00691755],\n",
       "       [-1.00691755],\n",
       "       [-0.61840088],\n",
       "       [-0.98101644],\n",
       "       [-1.1364231 ],\n",
       "       [-0.10037866],\n",
       "       [-0.59249977],\n",
       "       [ 0.15863245],\n",
       "       [-0.51479644],\n",
       "       [ 0.88386355],\n",
       "       [-1.31773088],\n",
       "       [-0.95511533],\n",
       "       [ 0.23633578],\n",
       "       [ 2.74874354],\n",
       "       [-0.48889533],\n",
       "       [-1.34363199],\n",
       "       [-0.35938977],\n",
       "       [-0.10037866],\n",
       "       [-0.87741199],\n",
       "       [ 0.987468  ],\n",
       "       [ 2.23072132],\n",
       "       [-0.95511533],\n",
       "       [-0.43709311],\n",
       "       [-1.31773088],\n",
       "       [ 1.19467688],\n",
       "       [-0.35938977],\n",
       "       [-0.35938977],\n",
       "       [-0.48889533],\n",
       "       [-0.54069755],\n",
       "       [ 1.06517133],\n",
       "       [-1.1364231 ],\n",
       "       [-0.87741199],\n",
       "       [ 0.288138  ],\n",
       "       [-0.95511533],\n",
       "       [-0.22988422],\n",
       "       [-1.1364231 ],\n",
       "       [ 0.02912689],\n",
       "       [-0.22988422],\n",
       "       [-0.74790644],\n",
       "       [-0.74790644],\n",
       "       [-0.82560977],\n",
       "       [-0.28168644],\n",
       "       [ 0.754358  ],\n",
       "       [-0.02267533],\n",
       "       [ 1.19467688],\n",
       "       [-0.35938977],\n",
       "       [-0.46299422],\n",
       "       [ 2.8782491 ],\n",
       "       [-0.54069755],\n",
       "       [-0.10037866],\n",
       "       [ 0.15863245],\n",
       "       [ 0.31403911],\n",
       "       [ 0.288138  ],\n",
       "       [ 1.06517133],\n",
       "       [-0.74790644],\n",
       "       [-0.46299422],\n",
       "       [-0.92921422],\n",
       "       [-0.61840088],\n",
       "       [ 0.02912689],\n",
       "       [-0.30758755],\n",
       "       [ 1.97171021],\n",
       "       [-0.82560977],\n",
       "       [        nan],\n",
       "       [-0.22988422],\n",
       "       [-0.35938977],\n",
       "       [ 0.93566577],\n",
       "       [ 0.54714911],\n",
       "       [-0.10037866],\n",
       "       [ 1.7126991 ],\n",
       "       [-0.82560977],\n",
       "       [-0.30758755],\n",
       "       [-0.9033131 ],\n",
       "       [-0.15218089],\n",
       "       [        nan],\n",
       "       [-0.35938977],\n",
       "       [ 0.54714911],\n",
       "       [-0.85151088],\n",
       "       [-1.42133532],\n",
       "       [-0.74790644],\n",
       "       [ 0.67665466],\n",
       "       [-0.22988422],\n",
       "       [-0.85151088],\n",
       "       [-0.74790644],\n",
       "       [-0.411192  ],\n",
       "       [ 3.13726021],\n",
       "       [ 1.19467688]])"
      ]
     },
     "execution_count": 61,
     "metadata": {},
     "output_type": "execute_result"
    }
   ],
   "source": [
    "ss_horsepower = ss_scaler.transform(train[['horsepower']])\n",
    "ss_horsepower"
   ]
  },
  {
   "cell_type": "code",
   "execution_count": 62,
   "id": "51fe7532",
   "metadata": {},
   "outputs": [
    {
     "data": {
      "text/plain": [
       "Text(0.5, 1.0, 'Transformed data')"
      ]
     },
     "execution_count": 62,
     "metadata": {},
     "output_type": "execute_result"
    },
    {
     "data": {
      "image/png": "[encoded data removed]",
      "text/plain": [
       "<Figure size 640x480 with 2 Axes>"
      ]
     },
     "metadata": {},
     "output_type": "display_data"
    }
   ],
   "source": [
    "plt.subplot(121)\n",
    "plt.hist(train['horsepower'], bins = 25)\n",
    "plt.title('Original Data')\n",
    "\n",
    "plt.subplot(122)\n",
    "plt.hist(ss_horsepower, bins = 25)\n",
    "plt.title('Transformed data')"
   ]
  },
  {
   "cell_type": "code",
   "execution_count": 64,
   "id": "6978775b",
   "metadata": {},
   "outputs": [],
   "source": [
    "from sklearn.preprocessing import RobustScaler"
   ]
  },
  {
   "cell_type": "code",
   "execution_count": 65,
   "id": "feccafaa",
   "metadata": {},
   "outputs": [],
   "source": [
    "r_scaler = RobustScaler()"
   ]
  },
  {
   "cell_type": "code",
   "execution_count": 66,
   "id": "27dc68bf",
   "metadata": {},
   "outputs": [
    {
     "data": {
      "text/html": [
       "<style>#sk-container-id-3 {color: black;background-color: white;}#sk-container-id-3 pre{padding: 0;}#sk-container-id-3 div.sk-toggleable {background-color: white;}#sk-container-id-3 label.sk-toggleable__label {cursor: pointer;display: block;width: 100%;margin-bottom: 0;padding: 0.3em;box-sizing: border-box;text-align: center;}#sk-container-id-3 label.sk-toggleable__label-arrow:before {content: \"▸\";float: left;margin-right: 0.25em;color: #696969;}#sk-container-id-3 label.sk-toggleable__label-arrow:hover:before {color: black;}#sk-container-id-3 div.sk-estimator:hover label.sk-toggleable__label-arrow:before {color: black;}#sk-container-id-3 div.sk-toggleable__content {max-height: 0;max-width: 0;overflow: hidden;text-align: left;background-color: #f0f8ff;}#sk-container-id-3 div.sk-toggleable__content pre {margin: 0.2em;color: black;border-radius: 0.25em;background-color: #f0f8ff;}#sk-container-id-3 input.sk-toggleable__control:checked~div.sk-toggleable__content {max-height: 200px;max-width: 100%;overflow: auto;}#sk-container-id-3 input.sk-toggleable__control:checked~label.sk-toggleable__label-arrow:before {content: \"▾\";}#sk-container-id-3 div.sk-estimator input.sk-toggleable__control:checked~label.sk-toggleable__label {background-color: #d4ebff;}#sk-container-id-3 div.sk-label input.sk-toggleable__control:checked~label.sk-toggleable__label {background-color: #d4ebff;}#sk-container-id-3 input.sk-hidden--visually {border: 0;clip: rect(1px 1px 1px 1px);clip: rect(1px, 1px, 1px, 1px);height: 1px;margin: -1px;overflow: hidden;padding: 0;position: absolute;width: 1px;}#sk-container-id-3 div.sk-estimator {font-family: monospace;background-color: #f0f8ff;border: 1px dotted black;border-radius: 0.25em;box-sizing: border-box;margin-bottom: 0.5em;}#sk-container-id-3 div.sk-estimator:hover {background-color: #d4ebff;}#sk-container-id-3 div.sk-parallel-item::after {content: \"\";width: 100%;border-bottom: 1px solid gray;flex-grow: 1;}#sk-container-id-3 div.sk-label:hover label.sk-toggleable__label {background-color: #d4ebff;}#sk-container-id-3 div.sk-serial::before {content: \"\";position: absolute;border-left: 1px solid gray;box-sizing: border-box;top: 0;bottom: 0;left: 50%;z-index: 0;}#sk-container-id-3 div.sk-serial {display: flex;flex-direction: column;align-items: center;background-color: white;padding-right: 0.2em;padding-left: 0.2em;position: relative;}#sk-container-id-3 div.sk-item {position: relative;z-index: 1;}#sk-container-id-3 div.sk-parallel {display: flex;align-items: stretch;justify-content: center;background-color: white;position: relative;}#sk-container-id-3 div.sk-item::before, #sk-container-id-3 div.sk-parallel-item::before {content: \"\";position: absolute;border-left: 1px solid gray;box-sizing: border-box;top: 0;bottom: 0;left: 50%;z-index: -1;}#sk-container-id-3 div.sk-parallel-item {display: flex;flex-direction: column;z-index: 1;position: relative;background-color: white;}#sk-container-id-3 div.sk-parallel-item:first-child::after {align-self: flex-end;width: 50%;}#sk-container-id-3 div.sk-parallel-item:last-child::after {align-self: flex-start;width: 50%;}#sk-container-id-3 div.sk-parallel-item:only-child::after {width: 0;}#sk-container-id-3 div.sk-dashed-wrapped {border: 1px dashed gray;margin: 0 0.4em 0.5em 0.4em;box-sizing: border-box;padding-bottom: 0.4em;background-color: white;}#sk-container-id-3 div.sk-label label {font-family: monospace;font-weight: bold;display: inline-block;line-height: 1.2em;}#sk-container-id-3 div.sk-label-container {text-align: center;}#sk-container-id-3 div.sk-container {/* jupyter's `normalize.less` sets `[hidden] { display: none; }` but bootstrap.min.css set `[hidden] { display: none !important; }` so we also need the `!important` here to be able to override the default hidden behavior on the sphinx rendered scikit-learn.org. See: https://github.com/scikit-learn/scikit-learn/issues/21755 */display: inline-block !important;position: relative;}#sk-container-id-3 div.sk-text-repr-fallback {display: none;}</style><div id=\"sk-container-id-3\" class=\"sk-top-container\"><div class=\"sk-text-repr-fallback\"><pre>RobustScaler()</pre><b>In a Jupyter environment, please rerun this cell to show the HTML representation or trust the notebook. <br />On GitHub, the HTML representation is unable to render, please try loading this page with nbviewer.org.</b></div><div class=\"sk-container\" hidden><div class=\"sk-item\"><div class=\"sk-estimator sk-toggleable\"><input class=\"sk-toggleable__control sk-hidden--visually\" id=\"sk-estimator-id-3\" type=\"checkbox\" checked><label for=\"sk-estimator-id-3\" class=\"sk-toggleable__label sk-toggleable__label-arrow\">RobustScaler</label><div class=\"sk-toggleable__content\"><pre>RobustScaler()</pre></div></div></div></div></div>"
      ],
      "text/plain": [
       "RobustScaler()"
      ]
     },
     "execution_count": 66,
     "metadata": {},
     "output_type": "execute_result"
    }
   ],
   "source": [
    "r_scaler.fit(train[['horsepower']])"
   ]
  },
  {
   "cell_type": "code",
   "execution_count": 67,
   "id": "2c4b05ee",
   "metadata": {},
   "outputs": [
    {
     "data": {
      "text/plain": [
       "array([[-0.24],\n",
       "       [-0.08],\n",
       "       [-0.88],\n",
       "       [-0.58],\n",
       "       [-0.64],\n",
       "       [ 1.16],\n",
       "       [-0.28],\n",
       "       [-0.08],\n",
       "       [ 0.9 ],\n",
       "       [ 0.4 ],\n",
       "       [-0.92],\n",
       "       [-0.8 ],\n",
       "       [ 1.66],\n",
       "       [ 1.14],\n",
       "       [-0.16],\n",
       "       [ 1.76],\n",
       "       [-0.14],\n",
       "       [ 0.94],\n",
       "       [-0.08],\n",
       "       [-0.08],\n",
       "       [-0.08],\n",
       "       [ 0.12],\n",
       "       [ 0.1 ],\n",
       "       [-0.08],\n",
       "       [-0.44],\n",
       "       [-0.44],\n",
       "       [-0.56],\n",
       "       [-0.2 ],\n",
       "       [ 0.26],\n",
       "       [-0.04],\n",
       "       [-0.36],\n",
       "       [-0.44],\n",
       "       [-0.4 ],\n",
       "       [ 2.12],\n",
       "       [-0.36],\n",
       "       [-0.28],\n",
       "       [-0.04],\n",
       "       [ 1.36],\n",
       "       [-0.54],\n",
       "       [ 2.56],\n",
       "       [  nan],\n",
       "       [ 0.16],\n",
       "       [-0.44],\n",
       "       [ 0.16],\n",
       "       [ 0.36],\n",
       "       [ 1.36],\n",
       "       [ 0.06],\n",
       "       [ 0.06],\n",
       "       [ 2.12],\n",
       "       [-0.6 ],\n",
       "       [ 0.86],\n",
       "       [-0.12],\n",
       "       [ 1.56],\n",
       "       [-0.8 ],\n",
       "       [ 0.26],\n",
       "       [ 1.06],\n",
       "       [-0.3 ],\n",
       "       [ 1.16],\n",
       "       [ 0.26],\n",
       "       [-0.34],\n",
       "       [ 1.16],\n",
       "       [ 0.1 ],\n",
       "       [-0.34],\n",
       "       [-0.5 ],\n",
       "       [-0.42],\n",
       "       [ 1.46],\n",
       "       [ 0.  ],\n",
       "       [ 1.32],\n",
       "       [ 0.32],\n",
       "       [-0.58],\n",
       "       [-0.16],\n",
       "       [-0.44],\n",
       "       [-0.34],\n",
       "       [ 0.08],\n",
       "       [-0.12],\n",
       "       [-0.62],\n",
       "       [-0.88],\n",
       "       [ 0.96],\n",
       "       [ 1.16],\n",
       "       [ 0.06],\n",
       "       [-0.58],\n",
       "       [-0.64],\n",
       "       [-0.44],\n",
       "       [ 0.16],\n",
       "       [ 0.36],\n",
       "       [ 0.76],\n",
       "       [-0.04],\n",
       "       [ 1.5 ],\n",
       "       [ 0.1 ],\n",
       "       [ 1.22],\n",
       "       [ 0.74],\n",
       "       [ 0.16],\n",
       "       [ 1.46],\n",
       "       [-0.26],\n",
       "       [-0.22],\n",
       "       [-0.28],\n",
       "       [ 0.4 ],\n",
       "       [ 0.16],\n",
       "       [ 0.36],\n",
       "       [-0.04],\n",
       "       [-0.46],\n",
       "       [ 0.  ],\n",
       "       [ 0.16],\n",
       "       [ 0.36],\n",
       "       [  nan],\n",
       "       [ 1.16],\n",
       "       [ 1.96],\n",
       "       [  nan],\n",
       "       [-0.54],\n",
       "       [ 2.16],\n",
       "       [ 0.06],\n",
       "       [-0.8 ],\n",
       "       [ 0.06],\n",
       "       [-0.68],\n",
       "       [-0.34],\n",
       "       [ 0.1 ],\n",
       "       [-0.32],\n",
       "       [ 0.96],\n",
       "       [ 2.76],\n",
       "       [-0.42],\n",
       "       [ 0.16],\n",
       "       [ 0.4 ],\n",
       "       [-0.08],\n",
       "       [-0.24],\n",
       "       [ 1.56],\n",
       "       [ 0.08],\n",
       "       [ 1.16],\n",
       "       [-0.16],\n",
       "       [-0.5 ],\n",
       "       [ 0.36],\n",
       "       [-0.08],\n",
       "       [ 1.66],\n",
       "       [ 1.06],\n",
       "       [-0.12],\n",
       "       [ 0.06],\n",
       "       [ 0.08],\n",
       "       [-0.44],\n",
       "       [-0.08],\n",
       "       [ 0.26],\n",
       "       [ 1.2 ],\n",
       "       [-0.04],\n",
       "       [-0.42],\n",
       "       [-0.24],\n",
       "       [-0.08],\n",
       "       [ 0.26],\n",
       "       [-0.06],\n",
       "       [-0.04],\n",
       "       [-0.6 ],\n",
       "       [-0.54],\n",
       "       [ 0.16],\n",
       "       [ 1.06],\n",
       "       [ 1.16],\n",
       "       [-0.34],\n",
       "       [-0.08],\n",
       "       [ 0.36],\n",
       "       [ 1.16],\n",
       "       [-0.04],\n",
       "       [ 0.3 ],\n",
       "       [ 0.26],\n",
       "       [ 1.66],\n",
       "       [ 1.46],\n",
       "       [-0.08],\n",
       "       [-0.28],\n",
       "       [ 1.66],\n",
       "       [ 0.1 ],\n",
       "       [ 0.  ],\n",
       "       [ 0.26],\n",
       "       [-0.26],\n",
       "       [ 0.1 ],\n",
       "       [-0.5 ],\n",
       "       [ 0.56],\n",
       "       [-0.5 ],\n",
       "       [ 2.02],\n",
       "       [ 0.46],\n",
       "       [ 1.16],\n",
       "       [ 1.46],\n",
       "       [ 1.76],\n",
       "       [ 1.66],\n",
       "       [ 1.16],\n",
       "       [-0.14],\n",
       "       [ 0.56],\n",
       "       [ 1.76],\n",
       "       [ 0.16],\n",
       "       [-0.46],\n",
       "       [ 0.74],\n",
       "       [ 1.56],\n",
       "       [ 0.2 ],\n",
       "       [ 1.26],\n",
       "       [-0.88],\n",
       "       [-0.34],\n",
       "       [-0.24],\n",
       "       [ 0.36],\n",
       "       [-0.54],\n",
       "       [-0.54],\n",
       "       [-0.24],\n",
       "       [-0.52],\n",
       "       [-0.64],\n",
       "       [ 0.16],\n",
       "       [-0.22],\n",
       "       [ 0.36],\n",
       "       [-0.16],\n",
       "       [ 0.92],\n",
       "       [-0.78],\n",
       "       [-0.5 ],\n",
       "       [ 0.42],\n",
       "       [ 2.36],\n",
       "       [-0.14],\n",
       "       [-0.8 ],\n",
       "       [-0.04],\n",
       "       [ 0.16],\n",
       "       [-0.44],\n",
       "       [ 1.  ],\n",
       "       [ 1.96],\n",
       "       [-0.5 ],\n",
       "       [-0.1 ],\n",
       "       [-0.78],\n",
       "       [ 1.16],\n",
       "       [-0.04],\n",
       "       [-0.04],\n",
       "       [-0.14],\n",
       "       [-0.18],\n",
       "       [ 1.06],\n",
       "       [-0.64],\n",
       "       [-0.44],\n",
       "       [ 0.46],\n",
       "       [-0.5 ],\n",
       "       [ 0.06],\n",
       "       [-0.64],\n",
       "       [ 0.26],\n",
       "       [ 0.06],\n",
       "       [-0.34],\n",
       "       [-0.34],\n",
       "       [-0.4 ],\n",
       "       [ 0.02],\n",
       "       [ 0.82],\n",
       "       [ 0.22],\n",
       "       [ 1.16],\n",
       "       [-0.04],\n",
       "       [-0.12],\n",
       "       [ 2.46],\n",
       "       [-0.18],\n",
       "       [ 0.16],\n",
       "       [ 0.36],\n",
       "       [ 0.48],\n",
       "       [ 0.46],\n",
       "       [ 1.06],\n",
       "       [-0.34],\n",
       "       [-0.12],\n",
       "       [-0.48],\n",
       "       [-0.24],\n",
       "       [ 0.26],\n",
       "       [ 0.  ],\n",
       "       [ 1.76],\n",
       "       [-0.4 ],\n",
       "       [  nan],\n",
       "       [ 0.06],\n",
       "       [-0.04],\n",
       "       [ 0.96],\n",
       "       [ 0.66],\n",
       "       [ 0.16],\n",
       "       [ 1.56],\n",
       "       [-0.4 ],\n",
       "       [ 0.  ],\n",
       "       [-0.46],\n",
       "       [ 0.12],\n",
       "       [  nan],\n",
       "       [-0.04],\n",
       "       [ 0.66],\n",
       "       [-0.42],\n",
       "       [-0.86],\n",
       "       [-0.34],\n",
       "       [ 0.76],\n",
       "       [ 0.06],\n",
       "       [-0.42],\n",
       "       [-0.34],\n",
       "       [-0.08],\n",
       "       [ 2.66],\n",
       "       [ 1.16]])"
      ]
     },
     "execution_count": 67,
     "metadata": {},
     "output_type": "execute_result"
    }
   ],
   "source": [
    "r_horsepower = r_scaler.transform(train[['horsepower']])\n",
    "r_horsepower"
   ]
  },
  {
   "cell_type": "code",
   "execution_count": 68,
   "id": "0d6e0242",
   "metadata": {},
   "outputs": [
    {
     "data": {
      "text/plain": [
       "Text(0.5, 1.0, 'Transformed data')"
      ]
     },
     "execution_count": 68,
     "metadata": {},
     "output_type": "execute_result"
    },
    {
     "data": {
      "image/png": "[encoded data removed]",
      "text/plain": [
       "<Figure size 640x480 with 2 Axes>"
      ]
     },
     "metadata": {},
     "output_type": "display_data"
    }
   ],
   "source": [
    "plt.subplot(121)\n",
    "plt.hist(train['horsepower'], bins = 25)\n",
    "plt.title('Original Data')\n",
    "\n",
    "plt.subplot(122)\n",
    "plt.hist(r_horsepower, bins = 25)\n",
    "plt.title('Transformed data')"
   ]
  },
  {
   "cell_type": "code",
   "execution_count": 73,
   "id": "29c70568",
   "metadata": {},
   "outputs": [
    {
     "data": {
      "text/plain": [
       "array([[-0.24      , -0.48705621],\n",
       "       [-0.08      ,  0.17566568],\n",
       "       [-0.88      , -0.36057692],\n",
       "       [-0.58      , -0.51590237],\n",
       "       [-0.64      , -0.63202663]])"
      ]
     },
     "execution_count": 73,
     "metadata": {},
     "output_type": "execute_result"
    }
   ],
   "source": [
    "r_scaler.fit(train[['horsepower', 'weight']])\n",
    "dt = r_scaler.transform(train[['horsepower', 'weight']])\n",
    "dt[:5]"
   ]
  },
  {
   "cell_type": "code",
   "execution_count": null,
   "id": "ceb80c21",
   "metadata": {},
   "outputs": [],
   "source": []
  }
 ],
 "metadata": {
  "kernelspec": {
   "display_name": "Python 3 (ipykernel)",
   "language": "python",
   "name": "python3"
  },
  "language_info": {
   "codemirror_mode": {
    "name": "ipython",
    "version": 3
   },
   "file_extension": ".py",
   "mimetype": "text/x-python",
   "name": "python",
   "nbconvert_exporter": "python",
   "pygments_lexer": "ipython3",
   "version": "3.9.13"
  }
 },
 "nbformat": 4,
 "nbformat_minor": 5
}
