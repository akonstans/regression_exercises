{
 "cells": [
  {
   "cell_type": "markdown",
   "id": "b2be487e",
   "metadata": {},
   "source": [
    "# Regression model evaluation"
   ]
  },
  {
   "cell_type": "markdown",
   "id": "42b829aa",
   "metadata": {},
   "source": [
    "## RMSE and R^2 are your new best friends"
   ]
  },
  {
   "cell_type": "code",
   "execution_count": 1,
   "id": "c6ae4c02",
   "metadata": {},
   "outputs": [],
   "source": [
    "import pandas as pd\n",
    "import numpy as np\n",
    "import matplotlib.pyplot as plt\n",
    "from math import sqrt\n",
    "from sklearn.linear_model import LinearRegression\n",
    "from sklearn.metrics import mean_squared_error, r2_score, explained_variance_score\n",
    "from regprepare import get_auto_mpg, train_val_test\n",
    "import warnings\n",
    "warnings.filterwarnings(\"ignore\")\n",
    "import evaluate as e"
   ]
  },
  {
   "cell_type": "code",
   "execution_count": 2,
   "id": "451d086a",
   "metadata": {},
   "outputs": [
    {
     "data": {
      "text/html": [
       "<div>\n",
       "<style scoped>\n",
       "    .dataframe tbody tr th:only-of-type {\n",
       "        vertical-align: middle;\n",
       "    }\n",
       "\n",
       "    .dataframe tbody tr th {\n",
       "        vertical-align: top;\n",
       "    }\n",
       "\n",
       "    .dataframe thead th {\n",
       "        text-align: right;\n",
       "    }\n",
       "</style>\n",
       "<table border=\"1\" class=\"dataframe\">\n",
       "  <thead>\n",
       "    <tr style=\"text-align: right;\">\n",
       "      <th></th>\n",
       "      <th>index</th>\n",
       "      <th>mpg</th>\n",
       "      <th>cylinders</th>\n",
       "      <th>displ</th>\n",
       "      <th>horsepower</th>\n",
       "      <th>weight</th>\n",
       "      <th>acc</th>\n",
       "      <th>model_year</th>\n",
       "      <th>origin</th>\n",
       "      <th>name</th>\n",
       "    </tr>\n",
       "  </thead>\n",
       "  <tbody>\n",
       "    <tr>\n",
       "      <th>0</th>\n",
       "      <td>0</td>\n",
       "      <td>18.0</td>\n",
       "      <td>8</td>\n",
       "      <td>307.0</td>\n",
       "      <td>130.0</td>\n",
       "      <td>3504.0</td>\n",
       "      <td>12.0</td>\n",
       "      <td>70</td>\n",
       "      <td>1</td>\n",
       "      <td>\"chevrolet chevelle malibu\"</td>\n",
       "    </tr>\n",
       "    <tr>\n",
       "      <th>1</th>\n",
       "      <td>1</td>\n",
       "      <td>15.0</td>\n",
       "      <td>8</td>\n",
       "      <td>350.0</td>\n",
       "      <td>165.0</td>\n",
       "      <td>3693.0</td>\n",
       "      <td>11.5</td>\n",
       "      <td>70</td>\n",
       "      <td>1</td>\n",
       "      <td>\"buick skylark 320\"</td>\n",
       "    </tr>\n",
       "    <tr>\n",
       "      <th>2</th>\n",
       "      <td>2</td>\n",
       "      <td>18.0</td>\n",
       "      <td>8</td>\n",
       "      <td>318.0</td>\n",
       "      <td>150.0</td>\n",
       "      <td>3436.0</td>\n",
       "      <td>11.0</td>\n",
       "      <td>70</td>\n",
       "      <td>1</td>\n",
       "      <td>\"plymouth satellite\"</td>\n",
       "    </tr>\n",
       "    <tr>\n",
       "      <th>3</th>\n",
       "      <td>3</td>\n",
       "      <td>16.0</td>\n",
       "      <td>8</td>\n",
       "      <td>304.0</td>\n",
       "      <td>150.0</td>\n",
       "      <td>3433.0</td>\n",
       "      <td>12.0</td>\n",
       "      <td>70</td>\n",
       "      <td>1</td>\n",
       "      <td>\"amc rebel sst\"</td>\n",
       "    </tr>\n",
       "    <tr>\n",
       "      <th>4</th>\n",
       "      <td>4</td>\n",
       "      <td>17.0</td>\n",
       "      <td>8</td>\n",
       "      <td>302.0</td>\n",
       "      <td>140.0</td>\n",
       "      <td>3449.0</td>\n",
       "      <td>10.5</td>\n",
       "      <td>70</td>\n",
       "      <td>1</td>\n",
       "      <td>\"ford torino\"</td>\n",
       "    </tr>\n",
       "  </tbody>\n",
       "</table>\n",
       "</div>"
      ],
      "text/plain": [
       "   index   mpg  cylinders  displ  horsepower  weight   acc  model_year  \\\n",
       "0      0  18.0          8  307.0       130.0  3504.0  12.0          70   \n",
       "1      1  15.0          8  350.0       165.0  3693.0  11.5          70   \n",
       "2      2  18.0          8  318.0       150.0  3436.0  11.0          70   \n",
       "3      3  16.0          8  304.0       150.0  3433.0  12.0          70   \n",
       "4      4  17.0          8  302.0       140.0  3449.0  10.5          70   \n",
       "\n",
       "   origin                         name  \n",
       "0       1  \"chevrolet chevelle malibu\"  \n",
       "1       1          \"buick skylark 320\"  \n",
       "2       1         \"plymouth satellite\"  \n",
       "3       1              \"amc rebel sst\"  \n",
       "4       1                \"ford torino\"  "
      ]
     },
     "execution_count": 2,
     "metadata": {},
     "output_type": "execute_result"
    }
   ],
   "source": [
    "df = get_auto_mpg()\n",
    "df = df.reset_index()\n",
    "df.head()"
   ]
  },
  {
   "cell_type": "code",
   "execution_count": 3,
   "id": "ec13ed15",
   "metadata": {},
   "outputs": [
    {
     "data": {
      "text/plain": [
       "((235, 10), (78, 10), (79, 10))"
      ]
     },
     "execution_count": 3,
     "metadata": {},
     "output_type": "execute_result"
    }
   ],
   "source": [
    "train, val, test = train_val_test(df, stratify = 'mpg')\n",
    "train.shape, val.shape, test.shape"
   ]
  },
  {
   "cell_type": "markdown",
   "id": "c6690269",
   "metadata": {},
   "source": [
    "## Establish baseline and model predicitions"
   ]
  },
  {
   "cell_type": "markdown",
   "id": "6c627711",
   "metadata": {},
   "source": [
    "The baseline is the mean of the actual values\n",
    "\n",
    "\n",
    "A basic LinearRegression model will be used to make predictions"
   ]
  },
  {
   "cell_type": "code",
   "execution_count": 4,
   "id": "6b250428",
   "metadata": {},
   "outputs": [
    {
     "data": {
      "text/plain": [
       "23.503829787234046"
      ]
     },
     "execution_count": 4,
     "metadata": {},
     "output_type": "execute_result"
    }
   ],
   "source": [
    "train['mpg'].mean()"
   ]
  },
  {
   "cell_type": "code",
   "execution_count": 5,
   "id": "37f43744",
   "metadata": {},
   "outputs": [],
   "source": [
    "preds = train[['horsepower', 'mpg']]"
   ]
  },
  {
   "cell_type": "code",
   "execution_count": 6,
   "id": "130ed8f7",
   "metadata": {},
   "outputs": [
    {
     "data": {
      "text/html": [
       "<div>\n",
       "<style scoped>\n",
       "    .dataframe tbody tr th:only-of-type {\n",
       "        vertical-align: middle;\n",
       "    }\n",
       "\n",
       "    .dataframe tbody tr th {\n",
       "        vertical-align: top;\n",
       "    }\n",
       "\n",
       "    .dataframe thead th {\n",
       "        text-align: right;\n",
       "    }\n",
       "</style>\n",
       "<table border=\"1\" class=\"dataframe\">\n",
       "  <thead>\n",
       "    <tr style=\"text-align: right;\">\n",
       "      <th></th>\n",
       "      <th>horsepower</th>\n",
       "      <th>mpg</th>\n",
       "      <th>baseline</th>\n",
       "    </tr>\n",
       "  </thead>\n",
       "  <tbody>\n",
       "    <tr>\n",
       "      <th>210</th>\n",
       "      <td>180.0</td>\n",
       "      <td>16.5</td>\n",
       "      <td>23.5</td>\n",
       "    </tr>\n",
       "    <tr>\n",
       "      <th>342</th>\n",
       "      <td>67.0</td>\n",
       "      <td>32.3</td>\n",
       "      <td>23.5</td>\n",
       "    </tr>\n",
       "    <tr>\n",
       "      <th>323</th>\n",
       "      <td>48.0</td>\n",
       "      <td>44.3</td>\n",
       "      <td>23.5</td>\n",
       "    </tr>\n",
       "    <tr>\n",
       "      <th>89</th>\n",
       "      <td>198.0</td>\n",
       "      <td>12.0</td>\n",
       "      <td>23.5</td>\n",
       "    </tr>\n",
       "    <tr>\n",
       "      <th>244</th>\n",
       "      <td>52.0</td>\n",
       "      <td>32.8</td>\n",
       "      <td>23.5</td>\n",
       "    </tr>\n",
       "  </tbody>\n",
       "</table>\n",
       "</div>"
      ],
      "text/plain": [
       "     horsepower   mpg  baseline\n",
       "210       180.0  16.5      23.5\n",
       "342        67.0  32.3      23.5\n",
       "323        48.0  44.3      23.5\n",
       "89        198.0  12.0      23.5\n",
       "244        52.0  32.8      23.5"
      ]
     },
     "execution_count": 6,
     "metadata": {},
     "output_type": "execute_result"
    }
   ],
   "source": [
    "preds['baseline'] = round(train['mpg'].mean(), 2)\n",
    "preds.head()"
   ]
  },
  {
   "cell_type": "code",
   "execution_count": 7,
   "id": "304700f7",
   "metadata": {},
   "outputs": [
    {
     "data": {
      "text/html": [
       "<style>#sk-container-id-1 {color: black;background-color: white;}#sk-container-id-1 pre{padding: 0;}#sk-container-id-1 div.sk-toggleable {background-color: white;}#sk-container-id-1 label.sk-toggleable__label {cursor: pointer;display: block;width: 100%;margin-bottom: 0;padding: 0.3em;box-sizing: border-box;text-align: center;}#sk-container-id-1 label.sk-toggleable__label-arrow:before {content: \"▸\";float: left;margin-right: 0.25em;color: #696969;}#sk-container-id-1 label.sk-toggleable__label-arrow:hover:before {color: black;}#sk-container-id-1 div.sk-estimator:hover label.sk-toggleable__label-arrow:before {color: black;}#sk-container-id-1 div.sk-toggleable__content {max-height: 0;max-width: 0;overflow: hidden;text-align: left;background-color: #f0f8ff;}#sk-container-id-1 div.sk-toggleable__content pre {margin: 0.2em;color: black;border-radius: 0.25em;background-color: #f0f8ff;}#sk-container-id-1 input.sk-toggleable__control:checked~div.sk-toggleable__content {max-height: 200px;max-width: 100%;overflow: auto;}#sk-container-id-1 input.sk-toggleable__control:checked~label.sk-toggleable__label-arrow:before {content: \"▾\";}#sk-container-id-1 div.sk-estimator input.sk-toggleable__control:checked~label.sk-toggleable__label {background-color: #d4ebff;}#sk-container-id-1 div.sk-label input.sk-toggleable__control:checked~label.sk-toggleable__label {background-color: #d4ebff;}#sk-container-id-1 input.sk-hidden--visually {border: 0;clip: rect(1px 1px 1px 1px);clip: rect(1px, 1px, 1px, 1px);height: 1px;margin: -1px;overflow: hidden;padding: 0;position: absolute;width: 1px;}#sk-container-id-1 div.sk-estimator {font-family: monospace;background-color: #f0f8ff;border: 1px dotted black;border-radius: 0.25em;box-sizing: border-box;margin-bottom: 0.5em;}#sk-container-id-1 div.sk-estimator:hover {background-color: #d4ebff;}#sk-container-id-1 div.sk-parallel-item::after {content: \"\";width: 100%;border-bottom: 1px solid gray;flex-grow: 1;}#sk-container-id-1 div.sk-label:hover label.sk-toggleable__label {background-color: #d4ebff;}#sk-container-id-1 div.sk-serial::before {content: \"\";position: absolute;border-left: 1px solid gray;box-sizing: border-box;top: 0;bottom: 0;left: 50%;z-index: 0;}#sk-container-id-1 div.sk-serial {display: flex;flex-direction: column;align-items: center;background-color: white;padding-right: 0.2em;padding-left: 0.2em;position: relative;}#sk-container-id-1 div.sk-item {position: relative;z-index: 1;}#sk-container-id-1 div.sk-parallel {display: flex;align-items: stretch;justify-content: center;background-color: white;position: relative;}#sk-container-id-1 div.sk-item::before, #sk-container-id-1 div.sk-parallel-item::before {content: \"\";position: absolute;border-left: 1px solid gray;box-sizing: border-box;top: 0;bottom: 0;left: 50%;z-index: -1;}#sk-container-id-1 div.sk-parallel-item {display: flex;flex-direction: column;z-index: 1;position: relative;background-color: white;}#sk-container-id-1 div.sk-parallel-item:first-child::after {align-self: flex-end;width: 50%;}#sk-container-id-1 div.sk-parallel-item:last-child::after {align-self: flex-start;width: 50%;}#sk-container-id-1 div.sk-parallel-item:only-child::after {width: 0;}#sk-container-id-1 div.sk-dashed-wrapped {border: 1px dashed gray;margin: 0 0.4em 0.5em 0.4em;box-sizing: border-box;padding-bottom: 0.4em;background-color: white;}#sk-container-id-1 div.sk-label label {font-family: monospace;font-weight: bold;display: inline-block;line-height: 1.2em;}#sk-container-id-1 div.sk-label-container {text-align: center;}#sk-container-id-1 div.sk-container {/* jupyter's `normalize.less` sets `[hidden] { display: none; }` but bootstrap.min.css set `[hidden] { display: none !important; }` so we also need the `!important` here to be able to override the default hidden behavior on the sphinx rendered scikit-learn.org. See: https://github.com/scikit-learn/scikit-learn/issues/21755 */display: inline-block !important;position: relative;}#sk-container-id-1 div.sk-text-repr-fallback {display: none;}</style><div id=\"sk-container-id-1\" class=\"sk-top-container\"><div class=\"sk-text-repr-fallback\"><pre>LinearRegression()</pre><b>In a Jupyter environment, please rerun this cell to show the HTML representation or trust the notebook. <br />On GitHub, the HTML representation is unable to render, please try loading this page with nbviewer.org.</b></div><div class=\"sk-container\" hidden><div class=\"sk-item\"><div class=\"sk-estimator sk-toggleable\"><input class=\"sk-toggleable__control sk-hidden--visually\" id=\"sk-estimator-id-1\" type=\"checkbox\" checked><label for=\"sk-estimator-id-1\" class=\"sk-toggleable__label sk-toggleable__label-arrow\">LinearRegression</label><div class=\"sk-toggleable__content\"><pre>LinearRegression()</pre></div></div></div></div></div>"
      ],
      "text/plain": [
       "LinearRegression()"
      ]
     },
     "execution_count": 7,
     "metadata": {},
     "output_type": "execute_result"
    }
   ],
   "source": [
    "ols_model = LinearRegression()\n",
    "\n",
    "ols_model.fit(train[['horsepower']], train[['mpg']])"
   ]
  },
  {
   "cell_type": "code",
   "execution_count": 8,
   "id": "91255efa",
   "metadata": {},
   "outputs": [],
   "source": [
    "preds['y_hat'] = ols_model.predict(train[['horsepower']])"
   ]
  },
  {
   "cell_type": "code",
   "execution_count": 9,
   "id": "d28ada4d",
   "metadata": {},
   "outputs": [
    {
     "data": {
      "text/html": [
       "<div>\n",
       "<style scoped>\n",
       "    .dataframe tbody tr th:only-of-type {\n",
       "        vertical-align: middle;\n",
       "    }\n",
       "\n",
       "    .dataframe tbody tr th {\n",
       "        vertical-align: top;\n",
       "    }\n",
       "\n",
       "    .dataframe thead th {\n",
       "        text-align: right;\n",
       "    }\n",
       "</style>\n",
       "<table border=\"1\" class=\"dataframe\">\n",
       "  <thead>\n",
       "    <tr style=\"text-align: right;\">\n",
       "      <th></th>\n",
       "      <th>horsepower</th>\n",
       "      <th>mpg</th>\n",
       "      <th>baseline</th>\n",
       "      <th>y_hat</th>\n",
       "    </tr>\n",
       "  </thead>\n",
       "  <tbody>\n",
       "    <tr>\n",
       "      <th>210</th>\n",
       "      <td>180.0</td>\n",
       "      <td>16.5</td>\n",
       "      <td>23.5</td>\n",
       "      <td>11.058302</td>\n",
       "    </tr>\n",
       "    <tr>\n",
       "      <th>342</th>\n",
       "      <td>67.0</td>\n",
       "      <td>32.3</td>\n",
       "      <td>23.5</td>\n",
       "      <td>30.114463</td>\n",
       "    </tr>\n",
       "    <tr>\n",
       "      <th>323</th>\n",
       "      <td>48.0</td>\n",
       "      <td>44.3</td>\n",
       "      <td>23.5</td>\n",
       "      <td>33.318596</td>\n",
       "    </tr>\n",
       "    <tr>\n",
       "      <th>89</th>\n",
       "      <td>198.0</td>\n",
       "      <td>12.0</td>\n",
       "      <td>23.5</td>\n",
       "      <td>8.022807</td>\n",
       "    </tr>\n",
       "    <tr>\n",
       "      <th>244</th>\n",
       "      <td>52.0</td>\n",
       "      <td>32.8</td>\n",
       "      <td>23.5</td>\n",
       "      <td>32.644042</td>\n",
       "    </tr>\n",
       "  </tbody>\n",
       "</table>\n",
       "</div>"
      ],
      "text/plain": [
       "     horsepower   mpg  baseline      y_hat\n",
       "210       180.0  16.5      23.5  11.058302\n",
       "342        67.0  32.3      23.5  30.114463\n",
       "323        48.0  44.3      23.5  33.318596\n",
       "89        198.0  12.0      23.5   8.022807\n",
       "244        52.0  32.8      23.5  32.644042"
      ]
     },
     "execution_count": 9,
     "metadata": {},
     "output_type": "execute_result"
    }
   ],
   "source": [
    "preds.head()"
   ]
  },
  {
   "cell_type": "markdown",
   "id": "a6566d9d",
   "metadata": {},
   "source": [
    "## Compute residuals"
   ]
  },
  {
   "cell_type": "markdown",
   "id": "aaf22cc0",
   "metadata": {},
   "source": [
    "predicitions - actual"
   ]
  },
  {
   "cell_type": "code",
   "execution_count": 10,
   "id": "92fcc941",
   "metadata": {},
   "outputs": [],
   "source": [
    "preds['baseline_residuals'] = preds.baseline - preds.mpg\n",
    "preds['residuals'] = preds.y_hat - preds.mpg"
   ]
  },
  {
   "cell_type": "code",
   "execution_count": 11,
   "id": "179013c7",
   "metadata": {},
   "outputs": [
    {
     "data": {
      "text/html": [
       "<div>\n",
       "<style scoped>\n",
       "    .dataframe tbody tr th:only-of-type {\n",
       "        vertical-align: middle;\n",
       "    }\n",
       "\n",
       "    .dataframe tbody tr th {\n",
       "        vertical-align: top;\n",
       "    }\n",
       "\n",
       "    .dataframe thead th {\n",
       "        text-align: right;\n",
       "    }\n",
       "</style>\n",
       "<table border=\"1\" class=\"dataframe\">\n",
       "  <thead>\n",
       "    <tr style=\"text-align: right;\">\n",
       "      <th></th>\n",
       "      <th>horsepower</th>\n",
       "      <th>mpg</th>\n",
       "      <th>baseline</th>\n",
       "      <th>y_hat</th>\n",
       "      <th>baseline_residuals</th>\n",
       "      <th>residuals</th>\n",
       "    </tr>\n",
       "  </thead>\n",
       "  <tbody>\n",
       "    <tr>\n",
       "      <th>210</th>\n",
       "      <td>180.0</td>\n",
       "      <td>16.5</td>\n",
       "      <td>23.5</td>\n",
       "      <td>11.058302</td>\n",
       "      <td>7.0</td>\n",
       "      <td>-5.441698</td>\n",
       "    </tr>\n",
       "    <tr>\n",
       "      <th>342</th>\n",
       "      <td>67.0</td>\n",
       "      <td>32.3</td>\n",
       "      <td>23.5</td>\n",
       "      <td>30.114463</td>\n",
       "      <td>-8.8</td>\n",
       "      <td>-2.185537</td>\n",
       "    </tr>\n",
       "    <tr>\n",
       "      <th>323</th>\n",
       "      <td>48.0</td>\n",
       "      <td>44.3</td>\n",
       "      <td>23.5</td>\n",
       "      <td>33.318596</td>\n",
       "      <td>-20.8</td>\n",
       "      <td>-10.981404</td>\n",
       "    </tr>\n",
       "    <tr>\n",
       "      <th>89</th>\n",
       "      <td>198.0</td>\n",
       "      <td>12.0</td>\n",
       "      <td>23.5</td>\n",
       "      <td>8.022807</td>\n",
       "      <td>11.5</td>\n",
       "      <td>-3.977193</td>\n",
       "    </tr>\n",
       "    <tr>\n",
       "      <th>244</th>\n",
       "      <td>52.0</td>\n",
       "      <td>32.8</td>\n",
       "      <td>23.5</td>\n",
       "      <td>32.644042</td>\n",
       "      <td>-9.3</td>\n",
       "      <td>-0.155958</td>\n",
       "    </tr>\n",
       "  </tbody>\n",
       "</table>\n",
       "</div>"
      ],
      "text/plain": [
       "     horsepower   mpg  baseline      y_hat  baseline_residuals  residuals\n",
       "210       180.0  16.5      23.5  11.058302                 7.0  -5.441698\n",
       "342        67.0  32.3      23.5  30.114463                -8.8  -2.185537\n",
       "323        48.0  44.3      23.5  33.318596               -20.8 -10.981404\n",
       "89        198.0  12.0      23.5   8.022807                11.5  -3.977193\n",
       "244        52.0  32.8      23.5  32.644042                -9.3  -0.155958"
      ]
     },
     "execution_count": 11,
     "metadata": {},
     "output_type": "execute_result"
    }
   ],
   "source": [
    "preds.head()"
   ]
  },
  {
   "cell_type": "code",
   "execution_count": 12,
   "id": "7245fccc",
   "metadata": {},
   "outputs": [
    {
     "data": {
      "image/png": "[encoded data removed]",
      "text/plain": [
       "<Figure size 640x480 with 1 Axes>"
      ]
     },
     "metadata": {},
     "output_type": "display_data"
    }
   ],
   "source": [
    "plt.scatter(preds.horsepower, preds.baseline_residuals)\n",
    "plt.xlabel('Horsepower')\n",
    "plt.ylabel('Baseline Residual')\n",
    "plt.show()"
   ]
  },
  {
   "cell_type": "code",
   "execution_count": 13,
   "id": "0ac26a3b",
   "metadata": {},
   "outputs": [
    {
     "data": {
      "image/png": "[encoded data removed]",
      "text/plain": [
       "<Figure size 640x480 with 1 Axes>"
      ]
     },
     "metadata": {},
     "output_type": "display_data"
    }
   ],
   "source": [
    "plt.scatter(preds.horsepower, preds.residuals)\n",
    "plt.xlabel('Horsepower')\n",
    "plt.ylabel('Prediciton Residual')\n",
    "plt.show()"
   ]
  },
  {
   "cell_type": "markdown",
   "id": "7c92ed25",
   "metadata": {},
   "source": [
    "## Compute SSE\n",
    "\n",
    "SSE - Sume of Squared Errors\n",
    "\n",
    "\n",
    "Also known as RSS - Residual Sum Squared\n",
    "\n",
    "\n",
    "Predicted - actual, squared and summed"
   ]
  },
  {
   "cell_type": "code",
   "execution_count": 14,
   "id": "777b69da",
   "metadata": {},
   "outputs": [
    {
     "data": {
      "text/html": [
       "<div>\n",
       "<style scoped>\n",
       "    .dataframe tbody tr th:only-of-type {\n",
       "        vertical-align: middle;\n",
       "    }\n",
       "\n",
       "    .dataframe tbody tr th {\n",
       "        vertical-align: top;\n",
       "    }\n",
       "\n",
       "    .dataframe thead th {\n",
       "        text-align: right;\n",
       "    }\n",
       "</style>\n",
       "<table border=\"1\" class=\"dataframe\">\n",
       "  <thead>\n",
       "    <tr style=\"text-align: right;\">\n",
       "      <th></th>\n",
       "      <th>horsepower</th>\n",
       "      <th>mpg</th>\n",
       "      <th>baseline</th>\n",
       "      <th>y_hat</th>\n",
       "      <th>baseline_residuals</th>\n",
       "      <th>residuals</th>\n",
       "      <th>baseline_res_squared</th>\n",
       "      <th>residuals_squared</th>\n",
       "    </tr>\n",
       "  </thead>\n",
       "  <tbody>\n",
       "    <tr>\n",
       "      <th>210</th>\n",
       "      <td>180.0</td>\n",
       "      <td>16.5</td>\n",
       "      <td>23.5</td>\n",
       "      <td>11.058302</td>\n",
       "      <td>7.0</td>\n",
       "      <td>-5.441698</td>\n",
       "      <td>49.00</td>\n",
       "      <td>29.612081</td>\n",
       "    </tr>\n",
       "    <tr>\n",
       "      <th>342</th>\n",
       "      <td>67.0</td>\n",
       "      <td>32.3</td>\n",
       "      <td>23.5</td>\n",
       "      <td>30.114463</td>\n",
       "      <td>-8.8</td>\n",
       "      <td>-2.185537</td>\n",
       "      <td>77.44</td>\n",
       "      <td>4.776574</td>\n",
       "    </tr>\n",
       "    <tr>\n",
       "      <th>323</th>\n",
       "      <td>48.0</td>\n",
       "      <td>44.3</td>\n",
       "      <td>23.5</td>\n",
       "      <td>33.318596</td>\n",
       "      <td>-20.8</td>\n",
       "      <td>-10.981404</td>\n",
       "      <td>432.64</td>\n",
       "      <td>120.591236</td>\n",
       "    </tr>\n",
       "    <tr>\n",
       "      <th>89</th>\n",
       "      <td>198.0</td>\n",
       "      <td>12.0</td>\n",
       "      <td>23.5</td>\n",
       "      <td>8.022807</td>\n",
       "      <td>11.5</td>\n",
       "      <td>-3.977193</td>\n",
       "      <td>132.25</td>\n",
       "      <td>15.818065</td>\n",
       "    </tr>\n",
       "    <tr>\n",
       "      <th>244</th>\n",
       "      <td>52.0</td>\n",
       "      <td>32.8</td>\n",
       "      <td>23.5</td>\n",
       "      <td>32.644042</td>\n",
       "      <td>-9.3</td>\n",
       "      <td>-0.155958</td>\n",
       "      <td>86.49</td>\n",
       "      <td>0.024323</td>\n",
       "    </tr>\n",
       "    <tr>\n",
       "      <th>...</th>\n",
       "      <td>...</td>\n",
       "      <td>...</td>\n",
       "      <td>...</td>\n",
       "      <td>...</td>\n",
       "      <td>...</td>\n",
       "      <td>...</td>\n",
       "      <td>...</td>\n",
       "      <td>...</td>\n",
       "    </tr>\n",
       "    <tr>\n",
       "      <th>71</th>\n",
       "      <td>150.0</td>\n",
       "      <td>15.0</td>\n",
       "      <td>23.5</td>\n",
       "      <td>16.117459</td>\n",
       "      <td>8.5</td>\n",
       "      <td>1.117459</td>\n",
       "      <td>72.25</td>\n",
       "      <td>1.248716</td>\n",
       "    </tr>\n",
       "    <tr>\n",
       "      <th>106</th>\n",
       "      <td>100.0</td>\n",
       "      <td>18.0</td>\n",
       "      <td>23.5</td>\n",
       "      <td>24.549389</td>\n",
       "      <td>5.5</td>\n",
       "      <td>6.549389</td>\n",
       "      <td>30.25</td>\n",
       "      <td>42.894497</td>\n",
       "    </tr>\n",
       "    <tr>\n",
       "      <th>270</th>\n",
       "      <td>85.0</td>\n",
       "      <td>23.8</td>\n",
       "      <td>23.5</td>\n",
       "      <td>27.078968</td>\n",
       "      <td>-0.3</td>\n",
       "      <td>3.278968</td>\n",
       "      <td>0.09</td>\n",
       "      <td>10.751631</td>\n",
       "    </tr>\n",
       "    <tr>\n",
       "      <th>348</th>\n",
       "      <td>65.0</td>\n",
       "      <td>29.9</td>\n",
       "      <td>23.5</td>\n",
       "      <td>30.451740</td>\n",
       "      <td>-6.4</td>\n",
       "      <td>0.551740</td>\n",
       "      <td>40.96</td>\n",
       "      <td>0.304417</td>\n",
       "    </tr>\n",
       "    <tr>\n",
       "      <th>102</th>\n",
       "      <td>150.0</td>\n",
       "      <td>11.0</td>\n",
       "      <td>23.5</td>\n",
       "      <td>16.117459</td>\n",
       "      <td>12.5</td>\n",
       "      <td>5.117459</td>\n",
       "      <td>156.25</td>\n",
       "      <td>26.188391</td>\n",
       "    </tr>\n",
       "  </tbody>\n",
       "</table>\n",
       "<p>235 rows × 8 columns</p>\n",
       "</div>"
      ],
      "text/plain": [
       "     horsepower   mpg  baseline      y_hat  baseline_residuals  residuals  \\\n",
       "210       180.0  16.5      23.5  11.058302                 7.0  -5.441698   \n",
       "342        67.0  32.3      23.5  30.114463                -8.8  -2.185537   \n",
       "323        48.0  44.3      23.5  33.318596               -20.8 -10.981404   \n",
       "89        198.0  12.0      23.5   8.022807                11.5  -3.977193   \n",
       "244        52.0  32.8      23.5  32.644042                -9.3  -0.155958   \n",
       "..          ...   ...       ...        ...                 ...        ...   \n",
       "71        150.0  15.0      23.5  16.117459                 8.5   1.117459   \n",
       "106       100.0  18.0      23.5  24.549389                 5.5   6.549389   \n",
       "270        85.0  23.8      23.5  27.078968                -0.3   3.278968   \n",
       "348        65.0  29.9      23.5  30.451740                -6.4   0.551740   \n",
       "102       150.0  11.0      23.5  16.117459                12.5   5.117459   \n",
       "\n",
       "     baseline_res_squared  residuals_squared  \n",
       "210                 49.00          29.612081  \n",
       "342                 77.44           4.776574  \n",
       "323                432.64         120.591236  \n",
       "89                 132.25          15.818065  \n",
       "244                 86.49           0.024323  \n",
       "..                    ...                ...  \n",
       "71                  72.25           1.248716  \n",
       "106                 30.25          42.894497  \n",
       "270                  0.09          10.751631  \n",
       "348                 40.96           0.304417  \n",
       "102                156.25          26.188391  \n",
       "\n",
       "[235 rows x 8 columns]"
      ]
     },
     "execution_count": 14,
     "metadata": {},
     "output_type": "execute_result"
    }
   ],
   "source": [
    "preds['baseline_res_squared'] = preds['baseline_residuals'] ** 2\n",
    "preds['residuals_squared'] = preds['residuals'] ** 2\n",
    "preds"
   ]
  },
  {
   "cell_type": "code",
   "execution_count": 15,
   "id": "63b278d0",
   "metadata": {},
   "outputs": [],
   "source": [
    "b_SSE = preds.baseline_res_squared.sum()\n",
    "p_SSE = sum(preds.residuals_squared)"
   ]
  },
  {
   "cell_type": "code",
   "execution_count": 16,
   "id": "4b80727a",
   "metadata": {},
   "outputs": [
    {
     "data": {
      "text/plain": [
       "15330.830000000002"
      ]
     },
     "execution_count": 16,
     "metadata": {},
     "output_type": "execute_result"
    }
   ],
   "source": [
    "b_SSE"
   ]
  },
  {
   "cell_type": "markdown",
   "id": "b8b39c1b",
   "metadata": {},
   "source": [
    "## Compute MSE\n",
    "\n",
    "MSE - Mean Squared Error\n",
    "\n",
    "Divide the SSE by total number of data points"
   ]
  },
  {
   "cell_type": "code",
   "execution_count": 17,
   "id": "5be6d606",
   "metadata": {},
   "outputs": [],
   "source": [
    "b_MSE = b_SSE/len(preds)\n",
    "p_MSE = p_SSE/len(preds)"
   ]
  },
  {
   "cell_type": "code",
   "execution_count": 18,
   "id": "2dd73f8c",
   "metadata": {},
   "outputs": [
    {
     "data": {
      "text/plain": [
       "(65.23757446808511, 22.78923096941157)"
      ]
     },
     "execution_count": 18,
     "metadata": {},
     "output_type": "execute_result"
    }
   ],
   "source": [
    "b_MSE, p_MSE"
   ]
  },
  {
   "cell_type": "markdown",
   "id": "f417e759",
   "metadata": {},
   "source": [
    "## Compute RMSE\n",
    "\n",
    "RMSE - Root Mean Squared Error\n",
    "\n",
    "Take the Square Root of the MSE"
   ]
  },
  {
   "cell_type": "code",
   "execution_count": 19,
   "id": "4ac0cad5",
   "metadata": {},
   "outputs": [],
   "source": [
    "b_RMSE = sqrt(b_MSE)\n",
    "p_RMSE = sqrt(p_MSE)"
   ]
  },
  {
   "cell_type": "code",
   "execution_count": 20,
   "id": "671983d7",
   "metadata": {},
   "outputs": [
    {
     "data": {
      "text/plain": [
       "(8.076978052965423, 4.773806758700186)"
      ]
     },
     "execution_count": 20,
     "metadata": {},
     "output_type": "execute_result"
    }
   ],
   "source": [
    "b_RMSE, p_RMSE"
   ]
  },
  {
   "cell_type": "markdown",
   "id": "d1ab09bb",
   "metadata": {},
   "source": [
    "## Doing it with the sklearn library\n",
    "\n",
    "mean_squared_error"
   ]
  },
  {
   "cell_type": "code",
   "execution_count": 21,
   "id": "2b3424ee",
   "metadata": {},
   "outputs": [
    {
     "data": {
      "text/plain": [
       "(8.076978052965423, 4.773806758700185)"
      ]
     },
     "execution_count": 21,
     "metadata": {},
     "output_type": "execute_result"
    }
   ],
   "source": [
    "ba_RMSE = mean_squared_error(preds.mpg, preds.baseline, squared = False)\n",
    "pr_RMSE = mean_squared_error(preds.mpg, preds.y_hat, squared = False)\n",
    "ba_RMSE, pr_RMSE"
   ]
  },
  {
   "cell_type": "markdown",
   "id": "53252c84",
   "metadata": {},
   "source": [
    "## Model Significance\n",
    "\n",
    "Calculating the R^2 value by hand\n",
    "\n",
    "R^2 = ESS/TSS"
   ]
  },
  {
   "cell_type": "markdown",
   "id": "5e615020",
   "metadata": {},
   "source": [
    "## Compute ESS\n",
    "\n",
    "ESS - Explained Sum of Squares\n",
    "\n",
    "Prediciton - mean of actual values squared and summed"
   ]
  },
  {
   "cell_type": "code",
   "execution_count": 22,
   "id": "c8f6b906",
   "metadata": {},
   "outputs": [
    {
     "data": {
      "text/plain": [
       "9975.360722188278"
      ]
     },
     "execution_count": 22,
     "metadata": {},
     "output_type": "execute_result"
    }
   ],
   "source": [
    "ESS = ((preds.y_hat - preds.baseline) ** 2).sum()\n",
    "ESS"
   ]
  },
  {
   "cell_type": "markdown",
   "id": "a9302983",
   "metadata": {},
   "source": [
    "## Compute TSS\n",
    "\n",
    "TSS - Total Sum of Squares\n",
    "\n",
    "ESS + SSE"
   ]
  },
  {
   "cell_type": "code",
   "execution_count": 23,
   "id": "a6be5105",
   "metadata": {},
   "outputs": [
    {
     "data": {
      "text/plain": [
       "15330.829999999996"
      ]
     },
     "execution_count": 23,
     "metadata": {},
     "output_type": "execute_result"
    }
   ],
   "source": [
    "TSS = ESS + p_SSE\n",
    "TSS"
   ]
  },
  {
   "cell_type": "markdown",
   "id": "81fbb04f",
   "metadata": {},
   "source": [
    "## Putting it all together"
   ]
  },
  {
   "cell_type": "code",
   "execution_count": 24,
   "id": "26532b6e",
   "metadata": {},
   "outputs": [
    {
     "data": {
      "text/plain": [
       "0.6506732330988133"
      ]
     },
     "execution_count": 24,
     "metadata": {},
     "output_type": "execute_result"
    }
   ],
   "source": [
    "ESS / TSS"
   ]
  },
  {
   "cell_type": "markdown",
   "id": "f0356c1b",
   "metadata": {},
   "source": [
    "## Using the sklearn library instead\n",
    "\n",
    "explained_variance_score"
   ]
  },
  {
   "cell_type": "code",
   "execution_count": 25,
   "id": "50d2b33d",
   "metadata": {},
   "outputs": [
    {
     "data": {
      "text/plain": [
       "0.6506731545601601"
      ]
     },
     "execution_count": 25,
     "metadata": {},
     "output_type": "execute_result"
    }
   ],
   "source": [
    "EVS = explained_variance_score(preds.mpg, preds.y_hat)\n",
    "EVS"
   ]
  },
  {
   "cell_type": "code",
   "execution_count": 26,
   "id": "50ee817f",
   "metadata": {},
   "outputs": [
    {
     "data": {
      "text/plain": [
       "0.6506731545601601"
      ]
     },
     "execution_count": 26,
     "metadata": {},
     "output_type": "execute_result"
    }
   ],
   "source": [
    "r2_score(preds.mpg, preds.y_hat)"
   ]
  },
  {
   "cell_type": "code",
   "execution_count": 27,
   "id": "d034570b",
   "metadata": {},
   "outputs": [
    {
     "name": "stdout",
     "output_type": "stream",
     "text": [
      "5355.469277811719 is the SSE \n",
      " 9975.35727537977 is the ESS \n",
      " 15330.82655319149 is the TSS \n",
      " 22.78923096941157 is the MSE \n",
      " 4.773806758700186 is the RMSE\n"
     ]
    }
   ],
   "source": [
    "e.regression_errors(preds.mpg, preds.y_hat)"
   ]
  },
  {
   "cell_type": "code",
   "execution_count": 28,
   "id": "3e81ed33",
   "metadata": {},
   "outputs": [
    {
     "name": "stdout",
     "output_type": "stream",
     "text": [
      "The model is better than the baseline\n"
     ]
    }
   ],
   "source": [
    "e.better_than_baseline(preds.mpg, preds.y_hat)"
   ]
  },
  {
   "cell_type": "code",
   "execution_count": null,
   "id": "2efc80bc",
   "metadata": {},
   "outputs": [],
   "source": []
  }
 ],
 "metadata": {
  "kernelspec": {
   "display_name": "Python 3 (ipykernel)",
   "language": "python",
   "name": "python3"
  },
  "language_info": {
   "codemirror_mode": {
    "name": "ipython",
    "version": 3
   },
   "file_extension": ".py",
   "mimetype": "text/x-python",
   "name": "python",
   "nbconvert_exporter": "python",
   "pygments_lexer": "ipython3",
   "version": "3.9.13"
  }
 },
 "nbformat": 4,
 "nbformat_minor": 5
}
